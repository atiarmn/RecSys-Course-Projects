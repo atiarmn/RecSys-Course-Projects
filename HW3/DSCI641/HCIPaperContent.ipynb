{
 "cells": [
  {
   "cell_type": "markdown",
   "id": "8266ee08-8019-4b6c-af86-b144863acef6",
   "metadata": {},
   "source": [
    "# Content-Based Filtering for Papers\n",
    "\n",
    "This notebook demonstrates **content-based recommendation** using research papers.  We use Scikit-Learn's [`TfidfVectorizer`](https://scikit-learn.org/stable/modules/generated/sklearn.feature_extraction.text.TfidfVectorizer.html#sklearn.feature_extraction.text.TfidfVectorizer) to transform text into vectors and do neighborhood-based recommendation using article abstract text.\n",
    "\n",
    "Paper abstracts are sourced from the now-defunct [HCI Bibliography](http://hcibib.org/).  Download the `hcibib.zip` data file from Blackboard and save it in the `data` directory."
   ]
  },
  {
   "cell_type": "markdown",
   "id": "381720a5-e8fd-4cbb-a5b9-824ab41ff61a",
   "metadata": {},
   "source": [
    "## Setup\n",
    "\n",
    "Let's import our core modules:"
   ]
  },
  {
   "cell_type": "code",
   "execution_count": 1,
   "id": "36a10f0a-59d1-4c52-81ae-d376456fdeb3",
   "metadata": {},
   "outputs": [],
   "source": [
    "import pandas as pd\n",
    "import numpy as np\n",
    "import matplotlib.pyplot as plt"
   ]
  },
  {
   "cell_type": "markdown",
   "id": "5eecac28-13ca-4e44-81b7-0db1b75daf50",
   "metadata": {},
   "source": [
    "We're going to use some Scikit-Learn models:"
   ]
  },
  {
   "cell_type": "code",
   "execution_count": 10,
   "id": "6d2d7b6f-371c-48ec-ba39-9e1795b91b39",
   "metadata": {},
   "outputs": [],
   "source": [
    "from sklearn.feature_extraction.text import TfidfVectorizer, CountVectorizer"
   ]
  },
  {
   "cell_type": "markdown",
   "id": "20e7b79e-7a0c-486d-ad63-6f9c20212afa",
   "metadata": {},
   "source": [
    "This repository has code to load the data:"
   ]
  },
  {
   "cell_type": "code",
   "execution_count": 3,
   "id": "b474b33d-2822-43b6-8691-3831f2829c32",
   "metadata": {},
   "outputs": [],
   "source": [
    "from dsci641.hcibib import bib_conference_dfs"
   ]
  },
  {
   "cell_type": "markdown",
   "id": "324a394d-a7c6-445f-9e69-a17b36058013",
   "metadata": {},
   "source": [
    "## Loading Data\n",
    "\n",
    "Let's load the conference data:"
   ]
  },
  {
   "cell_type": "code",
   "execution_count": 4,
   "id": "ce4ca0de-7712-4617-b2eb-0ae0a7341478",
   "metadata": {},
   "outputs": [
    {
     "name": "stdout",
     "output_type": "stream",
     "text": [
      "opening data/hcibib.zip\n",
      "found 1453 conference files\n"
     ]
    }
   ],
   "source": [
    "papers, authors = bib_conference_dfs('data/hcibib.zip')"
   ]
  },
  {
   "cell_type": "code",
   "execution_count": 5,
   "id": "fb9ebf47-fdcb-42b2-ae53-a7ac9f4f7b91",
   "metadata": {},
   "outputs": [
    {
     "name": "stdout",
     "output_type": "stream",
     "text": [
      "<class 'pandas.core.frame.DataFrame'>\n",
      "Index: 100624 entries, C.ACE.04.10 to C.YIUX.14.34\n",
      "Data columns (total 4 columns):\n",
      " #   Column    Non-Null Count   Dtype \n",
      "---  ------    --------------   ----- \n",
      " 0   date      100579 non-null  object\n",
      " 1   title     100624 non-null  object\n",
      " 2   abstract  100624 non-null  object\n",
      " 3   pub       100624 non-null  object\n",
      "dtypes: object(4)\n",
      "memory usage: 3.8+ MB\n"
     ]
    }
   ],
   "source": [
    "papers.set_index('id', inplace=True)\n",
    "papers.info()"
   ]
  },
  {
   "cell_type": "code",
   "execution_count": 6,
   "id": "542be45e-e9fc-4430-b2c8-3ce1789c16b2",
   "metadata": {},
   "outputs": [
    {
     "name": "stdout",
     "output_type": "stream",
     "text": [
      "<class 'pandas.core.frame.DataFrame'>\n",
      "RangeIndex: 310979 entries, 0 to 310978\n",
      "Data columns (total 2 columns):\n",
      " #   Column  Non-Null Count   Dtype \n",
      "---  ------  --------------   ----- \n",
      " 0   id      310979 non-null  object\n",
      " 1   author  310979 non-null  object\n",
      "dtypes: object(2)\n",
      "memory usage: 4.7+ MB\n"
     ]
    }
   ],
   "source": [
    "authors.info()"
   ]
  },
  {
   "cell_type": "markdown",
   "id": "6104d5ce-8843-4fb2-ae46-0736960f6a3f",
   "metadata": {},
   "source": [
    "We have about 100K papers."
   ]
  },
  {
   "cell_type": "markdown",
   "id": "40b3e00e-dcfc-47d9-b93d-4570800ab364",
   "metadata": {},
   "source": [
    "## Finding an Author\n",
    "\n",
    "We're going to recommend papers for me.  Let's look me up in the author lists:"
   ]
  },
  {
   "cell_type": "code",
   "execution_count": 7,
   "id": "932cdc98-fbbd-4097-a3eb-52f6c0eb9b5c",
   "metadata": {},
   "outputs": [
    {
     "data": {
      "text/html": [
       "<div>\n",
       "<style scoped>\n",
       "    .dataframe tbody tr th:only-of-type {\n",
       "        vertical-align: middle;\n",
       "    }\n",
       "\n",
       "    .dataframe tbody tr th {\n",
       "        vertical-align: top;\n",
       "    }\n",
       "\n",
       "    .dataframe thead th {\n",
       "        text-align: right;\n",
       "    }\n",
       "</style>\n",
       "<table border=\"1\" class=\"dataframe\">\n",
       "  <thead>\n",
       "    <tr style=\"text-align: right;\">\n",
       "      <th></th>\n",
       "      <th>id</th>\n",
       "      <th>author</th>\n",
       "    </tr>\n",
       "  </thead>\n",
       "  <tbody>\n",
       "    <tr>\n",
       "      <th>230289</th>\n",
       "      <td>C.ISW.09.4</td>\n",
       "      <td>Ekstrand, Michael D.</td>\n",
       "    </tr>\n",
       "    <tr>\n",
       "      <th>263749</th>\n",
       "      <td>C.RecSys.10.159</td>\n",
       "      <td>Ekstrand, Michael D.</td>\n",
       "    </tr>\n",
       "    <tr>\n",
       "      <th>263991</th>\n",
       "      <td>C.RecSys.11.133</td>\n",
       "      <td>Ekstrand, Michael D.</td>\n",
       "    </tr>\n",
       "    <tr>\n",
       "      <th>264103</th>\n",
       "      <td>C.RecSys.11.349</td>\n",
       "      <td>Ekstrand, Michael D.</td>\n",
       "    </tr>\n",
       "    <tr>\n",
       "      <th>264157</th>\n",
       "      <td>C.RecSys.11.395</td>\n",
       "      <td>Ekstrand, Michael</td>\n",
       "    </tr>\n",
       "    <tr>\n",
       "      <th>264207</th>\n",
       "      <td>C.RecSys.12.99</td>\n",
       "      <td>Ekstrand, Michael</td>\n",
       "    </tr>\n",
       "    <tr>\n",
       "      <th>264273</th>\n",
       "      <td>C.RecSys.12.233</td>\n",
       "      <td>Ekstrand, Michael</td>\n",
       "    </tr>\n",
       "    <tr>\n",
       "      <th>264472</th>\n",
       "      <td>C.RecSys.13.149</td>\n",
       "      <td>Ekstrand, Michael D.</td>\n",
       "    </tr>\n",
       "    <tr>\n",
       "      <th>264789</th>\n",
       "      <td>C.RecSys.14.161</td>\n",
       "      <td>Ekstrand, Michael D.</td>\n",
       "    </tr>\n",
       "    <tr>\n",
       "      <th>265006</th>\n",
       "      <td>C.RecSys.15.11</td>\n",
       "      <td>Ekstrand, Michael D.</td>\n",
       "    </tr>\n",
       "    <tr>\n",
       "      <th>286947</th>\n",
       "      <td>C.UIST.11.1.195</td>\n",
       "      <td>Ekstrand, Michael</td>\n",
       "    </tr>\n",
       "  </tbody>\n",
       "</table>\n",
       "</div>"
      ],
      "text/plain": [
       "                     id                author\n",
       "230289       C.ISW.09.4  Ekstrand, Michael D.\n",
       "263749  C.RecSys.10.159  Ekstrand, Michael D.\n",
       "263991  C.RecSys.11.133  Ekstrand, Michael D.\n",
       "264103  C.RecSys.11.349  Ekstrand, Michael D.\n",
       "264157  C.RecSys.11.395     Ekstrand, Michael\n",
       "264207   C.RecSys.12.99     Ekstrand, Michael\n",
       "264273  C.RecSys.12.233     Ekstrand, Michael\n",
       "264472  C.RecSys.13.149  Ekstrand, Michael D.\n",
       "264789  C.RecSys.14.161  Ekstrand, Michael D.\n",
       "265006   C.RecSys.15.11  Ekstrand, Michael D.\n",
       "286947  C.UIST.11.1.195     Ekstrand, Michael"
      ]
     },
     "execution_count": 7,
     "metadata": {},
     "output_type": "execute_result"
    }
   ],
   "source": [
    "mde = authors[authors['author'].isin(['Ekstrand, Michael', 'Ekstrand, Michael D.'])]\n",
    "mde"
   ]
  },
  {
   "cell_type": "markdown",
   "id": "24174675-f0fc-4782-925e-d2355bb3f0f1",
   "metadata": {},
   "source": [
    "Get the papers themselves:"
   ]
  },
  {
   "cell_type": "code",
   "execution_count": 8,
   "id": "8435e83d-ce61-4054-abb0-1c463dae39f6",
   "metadata": {},
   "outputs": [
    {
     "data": {
      "text/html": [
       "<div>\n",
       "<style scoped>\n",
       "    .dataframe tbody tr th:only-of-type {\n",
       "        vertical-align: middle;\n",
       "    }\n",
       "\n",
       "    .dataframe tbody tr th {\n",
       "        vertical-align: top;\n",
       "    }\n",
       "\n",
       "    .dataframe thead th {\n",
       "        text-align: right;\n",
       "    }\n",
       "</style>\n",
       "<table border=\"1\" class=\"dataframe\">\n",
       "  <thead>\n",
       "    <tr style=\"text-align: right;\">\n",
       "      <th></th>\n",
       "      <th>pub</th>\n",
       "      <th>title</th>\n",
       "    </tr>\n",
       "    <tr>\n",
       "      <th>id</th>\n",
       "      <th></th>\n",
       "      <th></th>\n",
       "    </tr>\n",
       "  </thead>\n",
       "  <tbody>\n",
       "    <tr>\n",
       "      <th>C.ISW.09.4</th>\n",
       "      <td>Proceedings of the 2009 International Symposiu...</td>\n",
       "      <td>rv you're dumb: identifying discarded work in ...</td>\n",
       "    </tr>\n",
       "    <tr>\n",
       "      <th>C.RecSys.10.159</th>\n",
       "      <td>Proceedings of the 2010 ACM Conference on Reco...</td>\n",
       "      <td>Automatically building research reading lists</td>\n",
       "    </tr>\n",
       "    <tr>\n",
       "      <th>C.RecSys.11.133</th>\n",
       "      <td>Proceedings of the 2011 ACM Conference on Reco...</td>\n",
       "      <td>Rethinking the recommender research ecosystem:...</td>\n",
       "    </tr>\n",
       "    <tr>\n",
       "      <th>C.RecSys.11.349</th>\n",
       "      <td>Proceedings of the 2011 ACM Conference on Reco...</td>\n",
       "      <td>LensKit: a modular recommender framework</td>\n",
       "    </tr>\n",
       "    <tr>\n",
       "      <th>C.RecSys.11.395</th>\n",
       "      <td>Proceedings of the 2011 ACM Conference on Reco...</td>\n",
       "      <td>UCERSTI 2: second workshop on user-centric eva...</td>\n",
       "    </tr>\n",
       "    <tr>\n",
       "      <th>C.RecSys.12.99</th>\n",
       "      <td>Proceedings of the 2012 ACM Conference on Reco...</td>\n",
       "      <td>How many bits per rating?</td>\n",
       "    </tr>\n",
       "    <tr>\n",
       "      <th>C.RecSys.12.233</th>\n",
       "      <td>Proceedings of the 2012 ACM Conference on Reco...</td>\n",
       "      <td>When recommenders fail: predicting recommender...</td>\n",
       "    </tr>\n",
       "    <tr>\n",
       "      <th>C.RecSys.13.149</th>\n",
       "      <td>Proceedings of the 2013 ACM Conference on Reco...</td>\n",
       "      <td>Rating support interfaces to improve user expe...</td>\n",
       "    </tr>\n",
       "    <tr>\n",
       "      <th>C.RecSys.14.161</th>\n",
       "      <td>Proceedings of the 2014 ACM Conference on Reco...</td>\n",
       "      <td>User perception of differences in recommender ...</td>\n",
       "    </tr>\n",
       "    <tr>\n",
       "      <th>C.RecSys.15.11</th>\n",
       "      <td>Proceedings of the 2015 ACM Conference on Reco...</td>\n",
       "      <td>Letting Users Choose Recommender Algorithms: A...</td>\n",
       "    </tr>\n",
       "    <tr>\n",
       "      <th>C.UIST.11.1.195</th>\n",
       "      <td>Proceedings of the 201 ACM Symposium on User I...</td>\n",
       "      <td>Searching for software learning resources usin...</td>\n",
       "    </tr>\n",
       "  </tbody>\n",
       "</table>\n",
       "</div>"
      ],
      "text/plain": [
       "                                                               pub  \\\n",
       "id                                                                   \n",
       "C.ISW.09.4       Proceedings of the 2009 International Symposiu...   \n",
       "C.RecSys.10.159  Proceedings of the 2010 ACM Conference on Reco...   \n",
       "C.RecSys.11.133  Proceedings of the 2011 ACM Conference on Reco...   \n",
       "C.RecSys.11.349  Proceedings of the 2011 ACM Conference on Reco...   \n",
       "C.RecSys.11.395  Proceedings of the 2011 ACM Conference on Reco...   \n",
       "C.RecSys.12.99   Proceedings of the 2012 ACM Conference on Reco...   \n",
       "C.RecSys.12.233  Proceedings of the 2012 ACM Conference on Reco...   \n",
       "C.RecSys.13.149  Proceedings of the 2013 ACM Conference on Reco...   \n",
       "C.RecSys.14.161  Proceedings of the 2014 ACM Conference on Reco...   \n",
       "C.RecSys.15.11   Proceedings of the 2015 ACM Conference on Reco...   \n",
       "C.UIST.11.1.195  Proceedings of the 201 ACM Symposium on User I...   \n",
       "\n",
       "                                                             title  \n",
       "id                                                                  \n",
       "C.ISW.09.4       rv you're dumb: identifying discarded work in ...  \n",
       "C.RecSys.10.159      Automatically building research reading lists  \n",
       "C.RecSys.11.133  Rethinking the recommender research ecosystem:...  \n",
       "C.RecSys.11.349           LensKit: a modular recommender framework  \n",
       "C.RecSys.11.395  UCERSTI 2: second workshop on user-centric eva...  \n",
       "C.RecSys.12.99                           How many bits per rating?  \n",
       "C.RecSys.12.233  When recommenders fail: predicting recommender...  \n",
       "C.RecSys.13.149  Rating support interfaces to improve user expe...  \n",
       "C.RecSys.14.161  User perception of differences in recommender ...  \n",
       "C.RecSys.15.11   Letting Users Choose Recommender Algorithms: A...  \n",
       "C.UIST.11.1.195  Searching for software learning resources usin...  "
      ]
     },
     "execution_count": 8,
     "metadata": {},
     "output_type": "execute_result"
    }
   ],
   "source": [
    "mde_papers = papers.loc[mde['id']]\n",
    "mde_papers[['pub', 'title']]"
   ]
  },
  {
   "cell_type": "markdown",
   "id": "4aeb89f4-c519-4a6a-aa84-872043798406",
   "metadata": {},
   "source": []
  },
  {
   "cell_type": "code",
   "execution_count": 14,
   "id": "9c1bab85-7203-440f-b023-941507d9a1f5",
   "metadata": {},
   "outputs": [
    {
     "data": {
      "text/plain": [
       "date                                               1994-10-22\n",
       "title       GroupLens: An Open Architecture for Collaborat...\n",
       "abstract    Collaborative filters help people make choices...\n",
       "pub         Proceedings of ACM CSCW'94 Conference on Compu...\n",
       "Name: C.CSCW.94.175, dtype: object"
      ]
     },
     "execution_count": 14,
     "metadata": {},
     "output_type": "execute_result"
    }
   ],
   "source": [
    "gl_id = 'C.CSCW.94.175'\n",
    "gl_row = papers.index.get_loc(gl_id)\n",
    "papers.loc[gl_id]"
   ]
  },
  {
   "cell_type": "markdown",
   "id": "b8e612ba-7166-435d-9c87-cf49b95ecb07",
   "metadata": {},
   "source": [
    "## Counting Text"
   ]
  },
  {
   "cell_type": "code",
   "execution_count": 11,
   "id": "9ecf6595-68e8-412f-b413-0b1ff3d240c9",
   "metadata": {},
   "outputs": [
    {
     "data": {
      "text/plain": [
       "<100624x81271 sparse matrix of type '<class 'numpy.int64'>'\n",
       "\twith 5344698 stored elements in Compressed Sparse Row format>"
      ]
     },
     "execution_count": 11,
     "metadata": {},
     "output_type": "execute_result"
    }
   ],
   "source": [
    "vectorizer = CountVectorizer(stop_words='english')\n",
    "X = vectorizer.fit_transform(papers['abstract'])\n",
    "X"
   ]
  },
  {
   "cell_type": "code",
   "execution_count": 13,
   "id": "cc8d45cd-b167-4b5b-95ff-127cab42bd4f",
   "metadata": {},
   "outputs": [
    {
     "data": {
      "text/plain": [
       "array(['00', '000', '0000', ..., 'zz', 'zzstructures', 'zzzoo'],\n",
       "      dtype=object)"
      ]
     },
     "execution_count": 13,
     "metadata": {},
     "output_type": "execute_result"
    }
   ],
   "source": [
    "vectorizer.get_feature_names_out()"
   ]
  },
  {
   "cell_type": "code",
   "execution_count": 15,
   "id": "47c58b81-79fa-4a5b-b713-17ec0724ab30",
   "metadata": {},
   "outputs": [
    {
     "data": {
      "text/plain": [
       "<1x81271 sparse matrix of type '<class 'numpy.int64'>'\n",
       "\twith 58 stored elements in Compressed Sparse Row format>"
      ]
     },
     "execution_count": 15,
     "metadata": {},
     "output_type": "execute_result"
    }
   ],
   "source": [
    "X[[gl_row], :]"
   ]
  },
  {
   "cell_type": "code",
   "execution_count": 20,
   "id": "95419f25-b10f-4115-8320-dfbbd671510f",
   "metadata": {},
   "outputs": [
    {
     "data": {
      "text/plain": [
       "people           4\n",
       "articles         3\n",
       "based            2\n",
       "better           2\n",
       "bit              2\n",
       "bureaus          2\n",
       "clients          2\n",
       "collaborative    2\n",
       "developed        2\n",
       "help             2\n",
       "dtype: int64"
      ]
     },
     "execution_count": 20,
     "metadata": {},
     "output_type": "execute_result"
    }
   ],
   "source": [
    "pd.Series(X[[gl_row], :].toarray()[0, :], index=vectorizer.get_feature_names_out()).nlargest(10)"
   ]
  },
  {
   "cell_type": "markdown",
   "id": "1b216f2b-8b46-44d4-b80e-14c991deec9b",
   "metadata": {},
   "source": [
    "## Processing Text\n",
    "\n",
    "We are going to analyze text by using **TF-IDF** vectors.  They will be unit-normalized (the default), so cosine similarities are easy.\n",
    "\n",
    "The `TfidfVectorizer` does this for us!  (Note, you do **not** use this for A1 or A2 — the content comes in a different form there.)"
   ]
  },
  {
   "cell_type": "code",
   "execution_count": 21,
   "id": "2b3c7c01-069c-47fa-965a-8c2bcce7ee97",
   "metadata": {},
   "outputs": [
    {
     "data": {
      "text/plain": [
       "<100624x81271 sparse matrix of type '<class 'numpy.float64'>'\n",
       "\twith 5344698 stored elements in Compressed Sparse Row format>"
      ]
     },
     "execution_count": 21,
     "metadata": {},
     "output_type": "execute_result"
    }
   ],
   "source": [
    "vectorizer = TfidfVectorizer(stop_words='english')\n",
    "X = vectorizer.fit_transform(papers['abstract'])\n",
    "X"
   ]
  },
  {
   "cell_type": "markdown",
   "id": "b93411fd-435a-4870-88d5-d23f88f8f7c1",
   "metadata": {},
   "source": [
    "This gave us a **sparse matrix**, with one row for each paper and one column for each term (word).  We gave it the single column of text as input.\n",
    "\n",
    "We can now look for similar papers. Let's take the original collaborative filtering paper:"
   ]
  },
  {
   "cell_type": "markdown",
   "id": "14410fe0-6c9a-441c-91e7-19145a6432a6",
   "metadata": {},
   "source": [
    "Let's get its row from the matrix:"
   ]
  },
  {
   "cell_type": "code",
   "execution_count": 22,
   "id": "ef751235-8421-4828-a7f8-07f0658237c8",
   "metadata": {},
   "outputs": [
    {
     "data": {
      "text/plain": [
       "<1x81271 sparse matrix of type '<class 'numpy.float64'>'\n",
       "\twith 58 stored elements in Compressed Sparse Row format>"
      ]
     },
     "execution_count": 22,
     "metadata": {},
     "output_type": "execute_result"
    }
   ],
   "source": [
    "gl_vec = X[[gl_row], :]\n",
    "gl_vec"
   ]
  },
  {
   "cell_type": "markdown",
   "id": "71b396bb-017a-4fe6-8a7d-33d30e97b1d5",
   "metadata": {},
   "source": [
    "And get the most similar papers:"
   ]
  },
  {
   "cell_type": "code",
   "execution_count": 23,
   "id": "5aab85b6-9eac-4eb4-8d1e-a466420e928d",
   "metadata": {},
   "outputs": [
    {
     "data": {
      "text/plain": [
       "id\n",
       "C.DL.15.195        0.240478\n",
       "C.IR.05.106        0.234121\n",
       "C.CIKM.15.1859     0.223453\n",
       "C.CHI.03.1.585     0.223306\n",
       "C.DL.07.438        0.217386\n",
       "C.IUI.97.237       0.215445\n",
       "C.RecSys.13.105    0.213065\n",
       "C.IUI.10.31        0.210269\n",
       "C.WWW.13.1.691     0.209438\n",
       "C.IR.11.735        0.209077\n",
       "dtype: float64"
      ]
     },
     "execution_count": 23,
     "metadata": {},
     "output_type": "execute_result"
    }
   ],
   "source": [
    "gl_sims = gl_vec @ X.T\n",
    "gl_sims = gl_sims.toarray()[0, :]\n",
    "gl_sims = pd.Series(gl_sims, index=papers.index)\n",
    "# top 10 not counting itself\n",
    "gl_sims.nlargest(11).iloc[1:]"
   ]
  },
  {
   "cell_type": "markdown",
   "id": "0898399a-0a8e-4bd3-ba90-a0c7fdcac2d8",
   "metadata": {},
   "source": [
    "What is that most-similar paper?"
   ]
  },
  {
   "cell_type": "code",
   "execution_count": 24,
   "id": "903aa358-0534-4e9e-b58b-bc51983a29c4",
   "metadata": {},
   "outputs": [
    {
     "data": {
      "text/plain": [
       "date                                               1998-11-14\n",
       "title       Using Filtering Agents to Improve Prediction Q...\n",
       "abstract    Collaborative filtering systems help address i...\n",
       "pub         Proceedings of ACM CSCW'98 Conference on Compu...\n",
       "Name: C.CSCW.98.345, dtype: object"
      ]
     },
     "execution_count": 24,
     "metadata": {},
     "output_type": "execute_result"
    }
   ],
   "source": [
    "papers.loc['C.CSCW.98.345']"
   ]
  },
  {
   "cell_type": "markdown",
   "id": "bf0b05de-5cbd-4884-b054-750b965d1049",
   "metadata": {},
   "source": [
    "## Investigating TF-IDF\n",
    "\n",
    "Let's peek at the *actual vectors*.  Turn the GroupLens paper's row into a series with the model's `vocabulary_`:"
   ]
  },
  {
   "cell_type": "code",
   "execution_count": 25,
   "id": "24719902-256a-488c-b70e-2fbcb40b086e",
   "metadata": {},
   "outputs": [
    {
     "data": {
      "text/plain": [
       "bureaus      0.358843\n",
       "articles     0.275108\n",
       "bit          0.232363\n",
       "servers      0.215757\n",
       "clients      0.203127\n",
       "people       0.202085\n",
       "rating       0.186550\n",
       "grouplens    0.179422\n",
       "scores       0.175816\n",
       "news         0.174336\n",
       "dtype: float64"
      ]
     },
     "execution_count": 25,
     "metadata": {},
     "output_type": "execute_result"
    }
   ],
   "source": [
    "pd.Series(gl_vec.toarray()[0, :], index=vectorizer.get_feature_names_out()).nlargest(10)"
   ]
  },
  {
   "cell_type": "markdown",
   "id": "aeb43c57-b7bd-4cd7-896b-17de841c5f48",
   "metadata": {},
   "source": [
    "## Recommending for a User\n",
    "\n",
    "We can now take 1 of 2 different approaches to recommend for a user:\n",
    "\n",
    "* find similar articles to each article, and take the mean or total similarity\n",
    "* aggregate the user's history into a single vector\n",
    "\n",
    "Depending normalizations, they can be algebraicly equivalent in some cases.\n",
    "\n",
    "Let's compute separately for each article.  We can get a matrix aligned with my articles:"
   ]
  },
  {
   "cell_type": "code",
   "execution_count": 26,
   "id": "e80670b2-b2a0-41ea-8ebc-6aa9d7a20566",
   "metadata": {},
   "outputs": [
    {
     "data": {
      "text/plain": [
       "<11x81271 sparse matrix of type '<class 'numpy.float64'>'\n",
       "\twith 653 stored elements in Compressed Sparse Row format>"
      ]
     },
     "execution_count": 26,
     "metadata": {},
     "output_type": "execute_result"
    }
   ],
   "source": [
    "mde_rows = papers.index.get_indexer_for(mde_papers.index)\n",
    "mde_X = X[mde_rows, :]\n",
    "mde_X"
   ]
  },
  {
   "cell_type": "markdown",
   "id": "8c3af0b8-5577-4428-b72f-3b09aaf8276e",
   "metadata": {},
   "source": [
    "We can then multiply this *whole matrix* by the other one to get the similarities between each of my articles and all other articles:"
   ]
  },
  {
   "cell_type": "code",
   "execution_count": 27,
   "id": "71dab554-a5b9-4c5c-9032-000476429901",
   "metadata": {},
   "outputs": [
    {
     "data": {
      "text/plain": [
       "<11x100624 sparse matrix of type '<class 'numpy.float64'>'\n",
       "\twith 849628 stored elements in Compressed Sparse Row format>"
      ]
     },
     "execution_count": 27,
     "metadata": {},
     "output_type": "execute_result"
    }
   ],
   "source": [
    "mde_psims = mde_X @ X.T\n",
    "mde_psims"
   ]
  },
  {
   "cell_type": "markdown",
   "id": "6e014610-b22d-4fb5-8429-ac4641d21f02",
   "metadata": {},
   "source": [
    "We can then *average* those similarities, so the final score is the average similarity to my papers — `axis=0` tells it to take the mean of the rows; `np.array` is needed to convert from an old-style matrix due to SciKit-Learn using older numpy APIs:"
   ]
  },
  {
   "cell_type": "code",
   "execution_count": 32,
   "id": "28c7004b-e590-405f-a2b9-95fe455d14e2",
   "metadata": {},
   "outputs": [
    {
     "data": {
      "text/plain": [
       "id\n",
       "C.RecSys.15.11     0.266259\n",
       "C.RecSys.11.349    0.259746\n",
       "C.RecSys.11.133    0.250385\n",
       "C.RecSys.14.161    0.226413\n",
       "C.RecSys.12.233    0.216416\n",
       "dtype: float64"
      ]
     },
     "execution_count": 32,
     "metadata": {},
     "output_type": "execute_result"
    }
   ],
   "source": [
    "mde_sims = np.array(np.mean(mde_psims, axis=0))[0, :]\n",
    "mde_sims = pd.Series(mde_sims, index=papers.index)\n",
    "mde_sims.nlargest()"
   ]
  },
  {
   "cell_type": "markdown",
   "id": "ffe5f5cd-350a-4838-a19a-89c00417cc93",
   "metadata": {},
   "source": [
    "Let's make sure we don't have papers I wrote.  This mask trick is an easy (and efficient) way to filter out items."
   ]
  },
  {
   "cell_type": "code",
   "execution_count": 33,
   "id": "7b2f13bb-fe5d-4880-af99-24362eed7c18",
   "metadata": {},
   "outputs": [
    {
     "data": {
      "text/plain": [
       "id\n",
       "C.CHI.06.2.1103    0.216223\n",
       "C.CLEF.15.376      0.195301\n",
       "C.RecSys.11.383    0.187495\n",
       "C.RecSys.11.353    0.187490\n",
       "C.CHI.02.2.830     0.184500\n",
       "C.RecSys.15.265    0.182742\n",
       "C.CHI.06.1.1057    0.181467\n",
       "C.UMAP.12.63       0.177319\n",
       "C.WWW.09.671       0.173300\n",
       "C.IR.09.203        0.171470\n",
       "dtype: float64"
      ]
     },
     "execution_count": 33,
     "metadata": {},
     "output_type": "execute_result"
    }
   ],
   "source": [
    "mask = pd.Series(True, index=papers.index)\n",
    "mask[mde_papers.index] = False\n",
    "mde_sims[mask].nlargest(10)"
   ]
  },
  {
   "cell_type": "markdown",
   "id": "6713dfe1-4517-49c5-88f5-70d059664e55",
   "metadata": {},
   "source": [
    "What are these papers?"
   ]
  },
  {
   "cell_type": "code",
   "execution_count": 34,
   "id": "5948d130-ee66-4c23-bc26-d3e14b46114f",
   "metadata": {},
   "outputs": [
    {
     "data": {
      "text/html": [
       "<div>\n",
       "<style scoped>\n",
       "    .dataframe tbody tr th:only-of-type {\n",
       "        vertical-align: middle;\n",
       "    }\n",
       "\n",
       "    .dataframe tbody tr th {\n",
       "        vertical-align: top;\n",
       "    }\n",
       "\n",
       "    .dataframe thead th {\n",
       "        text-align: right;\n",
       "    }\n",
       "</style>\n",
       "<table border=\"1\" class=\"dataframe\">\n",
       "  <thead>\n",
       "    <tr style=\"text-align: right;\">\n",
       "      <th></th>\n",
       "      <th>score</th>\n",
       "      <th>title</th>\n",
       "      <th>pub</th>\n",
       "    </tr>\n",
       "    <tr>\n",
       "      <th>id</th>\n",
       "      <th></th>\n",
       "      <th></th>\n",
       "      <th></th>\n",
       "    </tr>\n",
       "  </thead>\n",
       "  <tbody>\n",
       "    <tr>\n",
       "      <th>C.CHI.06.2.1103</th>\n",
       "      <td>0.216223</td>\n",
       "      <td>Making recommendations better: an analytic mod...</td>\n",
       "      <td>Proceedings of ACM CHI 2006 Conference on Huma...</td>\n",
       "    </tr>\n",
       "    <tr>\n",
       "      <th>C.CLEF.15.376</th>\n",
       "      <td>0.195301</td>\n",
       "      <td>Optimizing and Evaluating Stream-Based News Re...</td>\n",
       "      <td>CLEF 2015: International Conference of the Cro...</td>\n",
       "    </tr>\n",
       "    <tr>\n",
       "      <th>C.RecSys.11.383</th>\n",
       "      <td>0.187495</td>\n",
       "      <td>3rd workshop on recommender systems and the so...</td>\n",
       "      <td>Proceedings of the 2011 ACM Conference on Reco...</td>\n",
       "    </tr>\n",
       "    <tr>\n",
       "      <th>C.RecSys.11.353</th>\n",
       "      <td>0.187490</td>\n",
       "      <td>Recommenders benchmark framework</td>\n",
       "      <td>Proceedings of the 2011 ACM Conference on Reco...</td>\n",
       "    </tr>\n",
       "    <tr>\n",
       "      <th>C.CHI.02.2.830</th>\n",
       "      <td>0.184500</td>\n",
       "      <td>The role of transparency in recommender systems</td>\n",
       "      <td>Proceedings of ACM CHI 2002 Conference on Huma...</td>\n",
       "    </tr>\n",
       "    <tr>\n",
       "      <th>C.RecSys.15.265</th>\n",
       "      <td>0.182742</td>\n",
       "      <td>Evaluating Tag Recommender Algorithms in Real-...</td>\n",
       "      <td>Proceedings of the 2015 ACM Conference on Reco...</td>\n",
       "    </tr>\n",
       "    <tr>\n",
       "      <th>C.CHI.06.1.1057</th>\n",
       "      <td>0.181467</td>\n",
       "      <td>Accounting for taste: using profile similarity...</td>\n",
       "      <td>Proceedings of ACM CHI 2006 Conference on Huma...</td>\n",
       "    </tr>\n",
       "    <tr>\n",
       "      <th>C.UMAP.12.63</th>\n",
       "      <td>0.177319</td>\n",
       "      <td>Preference Relation Based Matrix Factorization...</td>\n",
       "      <td>Proceedings of the 2012 Conference on User Mod...</td>\n",
       "    </tr>\n",
       "    <tr>\n",
       "      <th>C.WWW.09.671</th>\n",
       "      <td>0.173300</td>\n",
       "      <td>Tagommenders: connecting users to items throug...</td>\n",
       "      <td>Proceedings of the 2009 International Conferen...</td>\n",
       "    </tr>\n",
       "    <tr>\n",
       "      <th>C.IR.09.203</th>\n",
       "      <td>0.171470</td>\n",
       "      <td>Learning to recommend with social trust ensemble</td>\n",
       "      <td>Proceedings of the 32nd Annual International A...</td>\n",
       "    </tr>\n",
       "  </tbody>\n",
       "</table>\n",
       "</div>"
      ],
      "text/plain": [
       "                    score                                              title  \\\n",
       "id                                                                             \n",
       "C.CHI.06.2.1103  0.216223  Making recommendations better: an analytic mod...   \n",
       "C.CLEF.15.376    0.195301  Optimizing and Evaluating Stream-Based News Re...   \n",
       "C.RecSys.11.383  0.187495  3rd workshop on recommender systems and the so...   \n",
       "C.RecSys.11.353  0.187490                   Recommenders benchmark framework   \n",
       "C.CHI.02.2.830   0.184500    The role of transparency in recommender systems   \n",
       "C.RecSys.15.265  0.182742  Evaluating Tag Recommender Algorithms in Real-...   \n",
       "C.CHI.06.1.1057  0.181467  Accounting for taste: using profile similarity...   \n",
       "C.UMAP.12.63     0.177319  Preference Relation Based Matrix Factorization...   \n",
       "C.WWW.09.671     0.173300  Tagommenders: connecting users to items throug...   \n",
       "C.IR.09.203      0.171470   Learning to recommend with social trust ensemble   \n",
       "\n",
       "                                                               pub  \n",
       "id                                                                  \n",
       "C.CHI.06.2.1103  Proceedings of ACM CHI 2006 Conference on Huma...  \n",
       "C.CLEF.15.376    CLEF 2015: International Conference of the Cro...  \n",
       "C.RecSys.11.383  Proceedings of the 2011 ACM Conference on Reco...  \n",
       "C.RecSys.11.353  Proceedings of the 2011 ACM Conference on Reco...  \n",
       "C.CHI.02.2.830   Proceedings of ACM CHI 2002 Conference on Huma...  \n",
       "C.RecSys.15.265  Proceedings of the 2015 ACM Conference on Reco...  \n",
       "C.CHI.06.1.1057  Proceedings of ACM CHI 2006 Conference on Huma...  \n",
       "C.UMAP.12.63     Proceedings of the 2012 Conference on User Mod...  \n",
       "C.WWW.09.671     Proceedings of the 2009 International Conferen...  \n",
       "C.IR.09.203      Proceedings of the 32nd Annual International A...  "
      ]
     },
     "execution_count": 34,
     "metadata": {},
     "output_type": "execute_result"
    }
   ],
   "source": [
    "mde_sims[mask].nlargest(10).to_frame('score').join(papers[['title', 'pub']])"
   ]
  },
  {
   "cell_type": "code",
   "execution_count": null,
   "id": "393b9719-0ee2-4c99-a297-35226e99c568",
   "metadata": {},
   "outputs": [],
   "source": []
  }
 ],
 "metadata": {
  "kernelspec": {
   "display_name": "Python 3 (ipykernel)",
   "language": "python",
   "name": "python3"
  },
  "language_info": {
   "codemirror_mode": {
    "name": "ipython",
    "version": 3
   },
   "file_extension": ".py",
   "mimetype": "text/x-python",
   "name": "python",
   "nbconvert_exporter": "python",
   "pygments_lexer": "ipython3",
   "version": "3.11.7"
  }
 },
 "nbformat": 4,
 "nbformat_minor": 5
}
