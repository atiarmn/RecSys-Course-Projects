{
 "cells": [
  {
   "cell_type": "markdown",
   "id": "0d2ae98a",
   "metadata": {},
   "source": [
    "# Book Data Description\n",
    "\n",
    "This notebook provides some basic descriptive stats for the GoodReads recommendation data from the [PIReT Book Data Tools](https://bookdata.piret.info), originally sourced from the [UCSD Book Graph](https://mengtingwan.github.io/data/goodreads).\n",
    "\n",
    "I have saved a copy of this data to Tux, so you can access it from the [Tux Jupyterhub](https://support.cci.drexel.edu/cci-virtual-lab-resources/tux/tux-web-services-jupyterhub/)."
   ]
  },
  {
   "cell_type": "markdown",
   "id": "6c240822",
   "metadata": {},
   "source": [
    "## Setup\n",
    "\n",
    "Let's get some libraries in here:"
   ]
  },
  {
   "cell_type": "code",
   "execution_count": 3,
   "id": "f01b4fe0",
   "metadata": {},
   "outputs": [],
   "source": [
    "from pathlib import Path\n",
    "import pandas as pd\n",
    "import numpy as np\n",
    "import matplotlib.pyplot as plt\n",
    "import seaborn as sns"
   ]
  },
  {
   "cell_type": "markdown",
   "id": "ef36edf6",
   "metadata": {},
   "source": [
    "## Loading Data\n",
    "\n",
    "First, configure where to find the data.  If you are working on Tux, change this to `/site/courses/cs641/bookdata`."
   ]
  },
  {
   "cell_type": "code",
   "execution_count": 4,
   "id": "10597909-3b47-4d0e-9d1c-482a41dff1c3",
   "metadata": {},
   "outputs": [],
   "source": [
    "bd_dir = Path('.')"
   ]
  },
  {
   "cell_type": "markdown",
   "id": "e5538b01-8c2c-4405-aa47-fc0fe3063d41",
   "metadata": {},
   "source": [
    "We are going to load the **work actions** file: GoodReads add-to-shelf actions, aggregated by work.  This file is large; even when we limit the number of columns, it takes over 5GB of memory."
   ]
  },
  {
   "cell_type": "code",
   "execution_count": 6,
   "id": "999fa26d",
   "metadata": {},
   "outputs": [
    {
     "name": "stdout",
     "output_type": "stream",
     "text": [
      "<class 'pandas.core.frame.DataFrame'>\n",
      "RangeIndex: 227029488 entries, 0 to 227029487\n",
      "Data columns (total 5 columns):\n",
      " #   Column       Dtype  \n",
      "---  ------       -----  \n",
      " 0   user         int32  \n",
      " 1   item         int32  \n",
      " 2   last_time    int64  \n",
      " 3   nactions     uint32 \n",
      " 4   last_rating  float32\n",
      "dtypes: float32(1), int32(2), int64(1), uint32(1)\n",
      "memory usage: 5.1 GB\n"
     ]
    }
   ],
   "source": [
    "actions = pd.read_parquet(bd_dir / 'goodreads/full/gr-work-actions.parquet',\n",
    "                          columns=['user', 'item', 'last_time', 'nactions', 'last_rating'])\n",
    "actions.info()"
   ]
  },
  {
   "cell_type": "markdown",
   "id": "5c201d4f-e8ec-42b4-916d-7642afc470a9",
   "metadata": {},
   "source": [
    "## Basic Data Statistics"
   ]
  },
  {
   "cell_type": "markdown",
   "id": "df2405ba-fda8-40b7-84d4-c3b52efed821",
   "metadata": {},
   "source": [
    "We are going to start with basic statistics about the data set as a whole.  How many users and items do we have?"
   ]
  },
  {
   "cell_type": "code",
   "execution_count": 8,
   "id": "d0459580-a74a-4cca-afef-5a5928c0caec",
   "metadata": {},
   "outputs": [
    {
     "data": {
      "text/plain": [
       "user     876145\n",
       "item    1522486\n",
       "dtype: int64"
      ]
     },
     "execution_count": 8,
     "metadata": {},
     "output_type": "execute_result"
    }
   ],
   "source": [
    "actions[['user', 'item']].nunique()"
   ]
  },
  {
   "cell_type": "markdown",
   "id": "429e5167-ee98-4791-8549-b759b8580ee7",
   "metadata": {},
   "source": [
    "How many (user,item) pairs do we have observed actions for?"
   ]
  },
  {
   "cell_type": "code",
   "execution_count": 10,
   "id": "337b700e-3247-4647-8d56-724d2791a79f",
   "metadata": {},
   "outputs": [
    {
     "data": {
      "text/plain": [
       "227029488"
      ]
     },
     "execution_count": 10,
     "metadata": {},
     "output_type": "execute_result"
    }
   ],
   "source": [
    "len(actions)"
   ]
  },
  {
   "cell_type": "markdown",
   "id": "6fc8f788-c8d3-4ccc-b9ea-bdb653ea8883",
   "metadata": {},
   "source": [
    "How many *actions* do we have, given that a user can add a book to more than one shelf?"
   ]
  },
  {
   "cell_type": "code",
   "execution_count": 11,
   "id": "cbfc245a-b8e0-40fc-8e6a-aad4b1f8251a",
   "metadata": {},
   "outputs": [
    {
     "data": {
      "text/plain": [
       "229154523"
      ]
     },
     "execution_count": 11,
     "metadata": {},
     "output_type": "execute_result"
    }
   ],
   "source": [
    "actions['nactions'].sum()"
   ]
  },
  {
   "cell_type": "markdown",
   "id": "7003b969-678f-4d86-a167-73e1042c2975",
   "metadata": {},
   "source": [
    "How many (user, item) pairs do we have observed *ratings* for?"
   ]
  },
  {
   "cell_type": "code",
   "execution_count": 12,
   "id": "63b39fa4-2e12-4f40-b2cf-84609a33b431",
   "metadata": {},
   "outputs": [
    {
     "data": {
      "text/plain": [
       "104029673"
      ]
     },
     "execution_count": 12,
     "metadata": {},
     "output_type": "execute_result"
    }
   ],
   "source": [
    "actions['last_rating'].count()"
   ]
  },
  {
   "cell_type": "markdown",
   "id": "5c5da2a4-8290-4a9d-9717-08a816c5eef3",
   "metadata": {},
   "source": [
    "Finally, we want to compute the *density*: the fraction of (user,item) pairs for which we have observed interactions.  For the rest of this notebook, we will ignore repeated interactions and use the term 'action' for observing interactions from a user for an item."
   ]
  },
  {
   "cell_type": "code",
   "execution_count": 13,
   "id": "f06d76d1-f378-4fd2-9c12-02796eb6d5ae",
   "metadata": {},
   "outputs": [
    {
     "data": {
      "text/plain": [
       "0.00017019742105743108"
      ]
     },
     "execution_count": 13,
     "metadata": {},
     "output_type": "execute_result"
    }
   ],
   "source": [
    "n_users = actions['user'].nunique()\n",
    "n_items = actions['item'].nunique()\n",
    "n_actions = len(actions)\n",
    "n_actions / (n_users * n_items)"
   ]
  },
  {
   "cell_type": "markdown",
   "id": "8cddfd50-9108-4cc4-864d-17c4c6b50d39",
   "metadata": {},
   "source": [
    "We can also compute the *rating density*: the fraction with explicit rating values."
   ]
  },
  {
   "cell_type": "code",
   "execution_count": 15,
   "id": "ae5c5ce8-6e05-424b-9f0e-a4e37e8b513f",
   "metadata": {},
   "outputs": [
    {
     "data": {
      "text/plain": [
       "7.798802796070204e-05"
      ]
     },
     "execution_count": 15,
     "metadata": {},
     "output_type": "execute_result"
    }
   ],
   "source": [
    "n_ratings = actions['last_rating'].count()\n",
    "n_ratings / (n_users * n_items)"
   ]
  },
  {
   "cell_type": "markdown",
   "id": "db0bf2dd",
   "metadata": {},
   "source": [
    "## Item Statistics and Distributions\n",
    "\n",
    "Let's compute some item statistics.  We'll start by computing the popularity in # of users adding each book:"
   ]
  },
  {
   "cell_type": "code",
   "execution_count": 18,
   "id": "349e3fa1",
   "metadata": {},
   "outputs": [
    {
     "data": {
      "text/html": [
       "<div>\n",
       "<style scoped>\n",
       "    .dataframe tbody tr th:only-of-type {\n",
       "        vertical-align: middle;\n",
       "    }\n",
       "\n",
       "    .dataframe tbody tr th {\n",
       "        vertical-align: top;\n",
       "    }\n",
       "\n",
       "    .dataframe thead th {\n",
       "        text-align: right;\n",
       "    }\n",
       "</style>\n",
       "<table border=\"1\" class=\"dataframe\">\n",
       "  <thead>\n",
       "    <tr style=\"text-align: right;\">\n",
       "      <th></th>\n",
       "      <th>user_count</th>\n",
       "    </tr>\n",
       "    <tr>\n",
       "      <th>item</th>\n",
       "      <th></th>\n",
       "    </tr>\n",
       "  </thead>\n",
       "  <tbody>\n",
       "    <tr>\n",
       "      <th>440021811</th>\n",
       "      <td>1</td>\n",
       "    </tr>\n",
       "    <tr>\n",
       "      <th>457671674</th>\n",
       "      <td>1</td>\n",
       "    </tr>\n",
       "    <tr>\n",
       "      <th>448780967</th>\n",
       "      <td>1</td>\n",
       "    </tr>\n",
       "    <tr>\n",
       "      <th>421890546</th>\n",
       "      <td>1</td>\n",
       "    </tr>\n",
       "    <tr>\n",
       "      <th>402468870</th>\n",
       "      <td>1</td>\n",
       "    </tr>\n",
       "    <tr>\n",
       "      <th>...</th>\n",
       "      <td>...</td>\n",
       "    </tr>\n",
       "    <tr>\n",
       "      <th>400245494</th>\n",
       "      <td>244654</td>\n",
       "    </tr>\n",
       "    <tr>\n",
       "      <th>403212258</th>\n",
       "      <td>261917</td>\n",
       "    </tr>\n",
       "    <tr>\n",
       "      <th>403275794</th>\n",
       "      <td>285853</td>\n",
       "    </tr>\n",
       "    <tr>\n",
       "      <th>402792775</th>\n",
       "      <td>333688</td>\n",
       "    </tr>\n",
       "    <tr>\n",
       "      <th>404640799</th>\n",
       "      <td>345772</td>\n",
       "    </tr>\n",
       "  </tbody>\n",
       "</table>\n",
       "<p>1522486 rows × 1 columns</p>\n",
       "</div>"
      ],
      "text/plain": [
       "           user_count\n",
       "item                 \n",
       "440021811           1\n",
       "457671674           1\n",
       "448780967           1\n",
       "421890546           1\n",
       "402468870           1\n",
       "...               ...\n",
       "400245494      244654\n",
       "403212258      261917\n",
       "403275794      285853\n",
       "402792775      333688\n",
       "404640799      345772\n",
       "\n",
       "[1522486 rows x 1 columns]"
      ]
     },
     "execution_count": 18,
     "metadata": {},
     "output_type": "execute_result"
    }
   ],
   "source": [
    "item_counts = actions['item'].value_counts(sort=True, ascending=True).to_frame('user_count')\n",
    "item_counts"
   ]
  },
  {
   "cell_type": "markdown",
   "id": "9c6b4532-38aa-445d-bcc1-8e02cc75f099",
   "metadata": {},
   "source": [
    "We can also compute rating statistics (# and mean):"
   ]
  },
  {
   "cell_type": "code",
   "execution_count": 21,
   "id": "bd38a51a-a72d-4f98-8b0f-6abbe95ac1a2",
   "metadata": {},
   "outputs": [
    {
     "data": {
      "text/html": [
       "<div>\n",
       "<style scoped>\n",
       "    .dataframe tbody tr th:only-of-type {\n",
       "        vertical-align: middle;\n",
       "    }\n",
       "\n",
       "    .dataframe tbody tr th {\n",
       "        vertical-align: top;\n",
       "    }\n",
       "\n",
       "    .dataframe thead th {\n",
       "        text-align: right;\n",
       "    }\n",
       "</style>\n",
       "<table border=\"1\" class=\"dataframe\">\n",
       "  <thead>\n",
       "    <tr style=\"text-align: right;\">\n",
       "      <th></th>\n",
       "      <th>user_count</th>\n",
       "      <th>rating_count</th>\n",
       "      <th>mean</th>\n",
       "    </tr>\n",
       "    <tr>\n",
       "      <th>item</th>\n",
       "      <th></th>\n",
       "      <th></th>\n",
       "      <th></th>\n",
       "    </tr>\n",
       "  </thead>\n",
       "  <tbody>\n",
       "    <tr>\n",
       "      <th>440021811</th>\n",
       "      <td>1</td>\n",
       "      <td>1</td>\n",
       "      <td>4.000000</td>\n",
       "    </tr>\n",
       "    <tr>\n",
       "      <th>457671674</th>\n",
       "      <td>1</td>\n",
       "      <td>1</td>\n",
       "      <td>4.000000</td>\n",
       "    </tr>\n",
       "    <tr>\n",
       "      <th>448780967</th>\n",
       "      <td>1</td>\n",
       "      <td>1</td>\n",
       "      <td>4.000000</td>\n",
       "    </tr>\n",
       "    <tr>\n",
       "      <th>421890546</th>\n",
       "      <td>1</td>\n",
       "      <td>1</td>\n",
       "      <td>4.000000</td>\n",
       "    </tr>\n",
       "    <tr>\n",
       "      <th>402468870</th>\n",
       "      <td>1</td>\n",
       "      <td>1</td>\n",
       "      <td>3.000000</td>\n",
       "    </tr>\n",
       "    <tr>\n",
       "      <th>...</th>\n",
       "      <td>...</td>\n",
       "      <td>...</td>\n",
       "      <td>...</td>\n",
       "    </tr>\n",
       "    <tr>\n",
       "      <th>400245494</th>\n",
       "      <td>244654</td>\n",
       "      <td>181683</td>\n",
       "      <td>3.889115</td>\n",
       "    </tr>\n",
       "    <tr>\n",
       "      <th>403212258</th>\n",
       "      <td>261917</td>\n",
       "      <td>236150</td>\n",
       "      <td>3.361795</td>\n",
       "    </tr>\n",
       "    <tr>\n",
       "      <th>403275794</th>\n",
       "      <td>285853</td>\n",
       "      <td>208095</td>\n",
       "      <td>4.317009</td>\n",
       "    </tr>\n",
       "    <tr>\n",
       "      <th>402792775</th>\n",
       "      <td>333688</td>\n",
       "      <td>290155</td>\n",
       "      <td>4.367579</td>\n",
       "    </tr>\n",
       "    <tr>\n",
       "      <th>404640799</th>\n",
       "      <td>345772</td>\n",
       "      <td>307137</td>\n",
       "      <td>4.506338</td>\n",
       "    </tr>\n",
       "  </tbody>\n",
       "</table>\n",
       "<p>1522486 rows × 3 columns</p>\n",
       "</div>"
      ],
      "text/plain": [
       "           user_count  rating_count      mean\n",
       "item                                         \n",
       "440021811           1             1  4.000000\n",
       "457671674           1             1  4.000000\n",
       "448780967           1             1  4.000000\n",
       "421890546           1             1  4.000000\n",
       "402468870           1             1  3.000000\n",
       "...               ...           ...       ...\n",
       "400245494      244654        181683  3.889115\n",
       "403212258      261917        236150  3.361795\n",
       "403275794      285853        208095  4.317009\n",
       "402792775      333688        290155  4.367579\n",
       "404640799      345772        307137  4.506338\n",
       "\n",
       "[1522486 rows x 3 columns]"
      ]
     },
     "execution_count": 21,
     "metadata": {},
     "output_type": "execute_result"
    }
   ],
   "source": [
    "item_rate_stats = actions.groupby('item')['last_rating'].agg(['count', 'mean']).rename(columns={'count': 'rating_count'})\n",
    "item_stats = item_counts.join(item_rate_stats, how='left')\n",
    "item_stats"
   ]
  },
  {
   "cell_type": "markdown",
   "id": "7524d705",
   "metadata": {},
   "source": [
    "Let's look at the popularity curve. We can draw a histogram, but it won't be helpful:"
   ]
  },
  {
   "cell_type": "code",
   "execution_count": 23,
   "id": "8902c93d-0877-45d3-9fa9-438c6254ab8b",
   "metadata": {},
   "outputs": [
    {
     "data": {
      "text/plain": [
       "<Axes: ylabel='Frequency'>"
      ]
     },
     "execution_count": 23,
     "metadata": {},
     "output_type": "execute_result"
    },
    {
     "data": {
      "image/png": "[encoded data removed]",
      "text/plain": [
       "<Figure size 640x480 with 1 Axes>"
      ]
     },
     "metadata": {},
     "output_type": "display_data"
    }
   ],
   "source": [
    "item_stats['user_count'].plot.hist()"
   ]
  },
  {
   "cell_type": "markdown",
   "id": "79a15e19-b839-43ac-aa4f-febe4c2c25ef",
   "metadata": {},
   "source": [
    "This distribution is extremely skewed.  An easier way to look at it is a log-scaled *empirical cumulative distribution* plot, where the *x*-axis has the # of users for an item, and the *y*-axis has the **cumulative** fraction of items (fraction of items that have that many users or fewer).  The log scale makes the *x*-axis increase logarithmically, so the data is more readily visible when it is heavily skewed."
   ]
  },
  {
   "cell_type": "code",
   "execution_count": 26,
   "id": "e8cf6936",
   "metadata": {},
   "outputs": [
    {
     "data": {
      "text/plain": [
       "<Axes: xlabel='user_count', ylabel='Proportion'>"
      ]
     },
     "execution_count": 26,
     "metadata": {},
     "output_type": "execute_result"
    },
    {
     "data": {
      "image/png": "[encoded data removed]",
      "text/plain": [
       "<Figure size 640x480 with 1 Axes>"
      ]
     },
     "metadata": {},
     "output_type": "display_data"
    }
   ],
   "source": [
    "sns.ecdfplot(x=item_stats['user_count'], log_scale=True)"
   ]
  },
  {
   "cell_type": "markdown",
   "id": "f3e86c69-f23c-4930-a0f8-b68717d7bb21",
   "metadata": {},
   "source": [
    "Another way to to visualize it is with a *Lorenz curve*.  This is like the CDF plot, except instead of putting the number of users on the *x*-axis, it sorts the data and plots it by rank from smallest to largest.  Since we already sorted our item statistics frame, we can do this with a cumulative sum.  We'll also plot a 45-degree line as a reference for what it would look like if every item had an equal number of interactions."
   ]
  },
  {
   "cell_type": "code",
   "execution_count": 39,
   "id": "1b3c4ebe-a727-4561-b9ee-e547b81468fd",
   "metadata": {},
   "outputs": [
    {
     "data": {
      "text/plain": [
       "Text(0, 0.5, 'Cumulative Frac. of Actions')"
      ]
     },
     "execution_count": 39,
     "metadata": {},
     "output_type": "execute_result"
    },
    {
     "data": {
      "image/png": "[encoded data removed]",
      "text/plain": [
       "<Figure size 640x480 with 1 Axes>"
      ]
     },
     "metadata": {},
     "output_type": "display_data"
    }
   ],
   "source": [
    "lc_cfrac = item_stats['user_count'].cumsum()\n",
    "lc_cfrac /= n_actions\n",
    "\n",
    "lc_rankfrac = np.arange(n_items) / n_items\n",
    "\n",
    "plt.axline((0, 0), slope=1, color='grey', linestyle='dashed')\n",
    "plt.plot(lc_rankfrac, lc_cfrac)\n",
    "plt.xlabel('Fraction of Items')\n",
    "plt.ylabel('Cumulative Frac. of Actions')"
   ]
  },
  {
   "cell_type": "markdown",
   "id": "59f4d774-7c56-4e9b-b6dd-94d40cf530df",
   "metadata": {},
   "source": [
    "Since the curve is very low and to the right, we say that there is a very strong **popularity curve** in this data.\n",
    "\n",
    "Lorenz curves are popular in economics, and are good for displaying how concentrated a resource (in this case, user interaction) is on a few items, vs. being distributed across the population."
   ]
  },
  {
   "cell_type": "markdown",
   "id": "b6c490ba-a36b-4534-8d90-ade68cfd07f6",
   "metadata": {},
   "source": [
    "## For You to Try\n",
    "\n",
    "- Show the Lorenz curve of *ratings*\n",
    "- Show the distribution of # of ratings per user (profile size) — a histogram or an ECDF are good for this, Lorenz curve makes less sense\n",
    "- Show the distibution of item average ratings (histogram is a good choice)"
   ]
  }
 ],
 "metadata": {
  "kernelspec": {
   "display_name": "Python 3 (ipykernel)",
   "language": "python",
   "name": "python3"
  },
  "language_info": {
   "codemirror_mode": {
    "name": "ipython",
    "version": 3
   },
   "file_extension": ".py",
   "mimetype": "text/x-python",
   "name": "python",
   "nbconvert_exporter": "python",
   "pygments_lexer": "ipython3",
   "version": "3.12.0"
  }
 },
 "nbformat": 4,
 "nbformat_minor": 5
}
